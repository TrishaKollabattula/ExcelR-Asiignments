{
 "cells": [
  {
   "cell_type": "markdown",
   "metadata": {},
   "source": [
    "Write a Python script that:\n",
    "1. Tokenizes a sample paragraph into words and sentences.\n"
   ]
  },
  {
   "cell_type": "code",
   "execution_count": 2,
   "metadata": {},
   "outputs": [
    {
     "name": "stdout",
     "output_type": "stream",
     "text": [
      "Sentences: ['\\nI am working on a project that involves tokenization and text preprocessing.', \"It's an exciting task that helps me prepare data for analysis.\"]\n",
      "\n",
      "Words: ['I', 'am', 'working', 'on', 'a', 'project', 'that', 'involves', 'tokenization', 'and', 'text', 'preprocessing', '.', 'It', \"'s\", 'an', 'exciting', 'task', 'that', 'helps', 'me', 'prepare', 'data', 'for', 'analysis', '.']\n"
     ]
    }
   ],
   "source": [
    "import nltk\n",
    "from nltk.tokenize import word_tokenize, sent_tokenize\n",
    "\n",
    "\n",
    "\n",
    "# Sample paragraph\n",
    "paragraph = \"\"\"\n",
    "I am working on a project that involves tokenization and text preprocessing. It's an exciting task that helps me prepare data for analysis.\n",
    "\"\"\"\n",
    "\n",
    "# Tokenizing the paragraph into sentences\n",
    "sentences = sent_tokenize(paragraph)\n",
    "\n",
    "# Tokenizing the paragraph into words\n",
    "words = word_tokenize(paragraph)\n",
    "\n",
    "# Output the results\n",
    "print(\"Sentences:\", sentences)\n",
    "print(\"\\nWords:\", words)\n"
   ]
  },
  {
   "cell_type": "code",
   "execution_count": null,
   "metadata": {},
   "outputs": [],
   "source": []
  }
 ],
 "metadata": {
  "kernelspec": {
   "display_name": "Python 3",
   "language": "python",
   "name": "python3"
  },
  "language_info": {
   "codemirror_mode": {
    "name": "ipython",
    "version": 3
   },
   "file_extension": ".py",
   "mimetype": "text/x-python",
   "name": "python",
   "nbconvert_exporter": "python",
   "pygments_lexer": "ipython3",
   "version": "3.13.1"
  }
 },
 "nbformat": 4,
 "nbformat_minor": 2
}
