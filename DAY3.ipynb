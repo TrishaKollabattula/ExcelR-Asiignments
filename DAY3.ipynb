{
 "cells": [
  {
   "cell_type": "markdown",
   "metadata": {},
   "source": [
    "CONDITIONAL STATEMENTS"
   ]
  },
  {
   "cell_type": "code",
   "execution_count": 1,
   "metadata": {},
   "outputs": [
    {
     "name": "stdout",
     "output_type": "stream",
     "text": [
      "Grade: Fail\n"
     ]
    }
   ],
   "source": [
    "ai=int(input(\"Enter AI marks: \"))\n",
    "ml=int(input(\"Enter ML marks: \"))\n",
    "nlp=int(input(\"Enter NLP marks: \"))\n",
    "\n",
    "avg=(ai+ml+nlp)/3\n",
    "\n",
    "if avg>90:\n",
    "    print(\"Grade: A\")\n",
    "\n",
    "elif 80<=avg<=89:\n",
    "    print(\"Grade: B\")\n",
    "\n",
    "elif 70<=avg<=79:\n",
    "    print(\"Grade: C\")\n",
    "\n",
    "else:\n",
    "    print(\"Grade: Fail\")"
   ]
  },
  {
   "cell_type": "code",
   "execution_count": null,
   "metadata": {},
   "outputs": [],
   "source": []
  }
 ],
 "metadata": {
  "kernelspec": {
   "display_name": "Python 3",
   "language": "python",
   "name": "python3"
  },
  "language_info": {
   "codemirror_mode": {
    "name": "ipython",
    "version": 3
   },
   "file_extension": ".py",
   "mimetype": "text/x-python",
   "name": "python",
   "nbconvert_exporter": "python",
   "pygments_lexer": "ipython3",
   "version": "3.13.1"
  }
 },
 "nbformat": 4,
 "nbformat_minor": 2
}
