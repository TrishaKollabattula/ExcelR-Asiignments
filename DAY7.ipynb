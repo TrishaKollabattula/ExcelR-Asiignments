{
 "cells": [
  {
   "cell_type": "markdown",
   "metadata": {},
   "source": [
    "Write a Python script that:\n",
    "1. Use Genism to preprocess data from a sample text file, follow basic procedures like tokenization, stemming, lemmatization etc.\n"
   ]
  },
  {
   "cell_type": "code",
   "execution_count": 2,
   "metadata": {},
   "outputs": [
    {
     "name": "stdout",
     "output_type": "stream",
     "text": [
      "Defaulting to user installation because normal site-packages is not writeable\n",
      "Collecting gensim\n",
      "  Downloading gensim-4.3.3.tar.gz (23.3 MB)\n",
      "     ---------------------------------------- 0.0/23.3 MB ? eta -:--:--\n",
      "     - -------------------------------------- 0.8/23.3 MB 5.5 MB/s eta 0:00:05\n",
      "     ---- ----------------------------------- 2.4/23.3 MB 6.6 MB/s eta 0:00:04\n",
      "     ------ --------------------------------- 3.7/23.3 MB 6.5 MB/s eta 0:00:04\n",
      "     -------- ------------------------------- 5.0/23.3 MB 6.4 MB/s eta 0:00:03\n",
      "     ---------- ----------------------------- 6.3/23.3 MB 6.3 MB/s eta 0:00:03\n",
      "     ------------- -------------------------- 7.9/23.3 MB 6.5 MB/s eta 0:00:03\n",
      "     --------------- ------------------------ 9.2/23.3 MB 6.6 MB/s eta 0:00:03\n",
      "     ------------------ --------------------- 10.7/23.3 MB 6.6 MB/s eta 0:00:02\n",
      "     -------------------- ------------------- 12.1/23.3 MB 6.5 MB/s eta 0:00:02\n",
      "     ---------------------- ----------------- 13.4/23.3 MB 6.5 MB/s eta 0:00:02\n",
      "     ------------------------- -------------- 14.7/23.3 MB 6.5 MB/s eta 0:00:02\n",
      "     --------------------------- ------------ 16.3/23.3 MB 6.6 MB/s eta 0:00:02\n",
      "     ------------------------------ --------- 17.6/23.3 MB 6.5 MB/s eta 0:00:01\n",
      "     -------------------------------- ------- 19.1/23.3 MB 6.5 MB/s eta 0:00:01\n",
      "     ----------------------------------- ---- 20.4/23.3 MB 6.6 MB/s eta 0:00:01\n",
      "     ------------------------------------- -- 22.0/23.3 MB 6.6 MB/s eta 0:00:01\n",
      "     ---------------------------------------  23.1/23.3 MB 6.6 MB/s eta 0:00:01\n",
      "     ---------------------------------------- 23.3/23.3 MB 6.5 MB/s eta 0:00:00\n",
      "  Installing build dependencies: started\n",
      "  Installing build dependencies: finished with status 'done'\n",
      "  Getting requirements to build wheel: started\n",
      "  Getting requirements to build wheel: finished with status 'done'\n",
      "  Preparing metadata (pyproject.toml): started\n",
      "  Preparing metadata (pyproject.toml): finished with status 'done'\n",
      "Collecting numpy<2.0,>=1.18.5 (from gensim)\n",
      "  Downloading numpy-1.26.4.tar.gz (15.8 MB)\n",
      "     ---------------------------------------- 0.0/15.8 MB ? eta -:--:--\n",
      "     -- ------------------------------------- 1.0/15.8 MB 5.5 MB/s eta 0:00:03\n",
      "     ------ --------------------------------- 2.6/15.8 MB 6.3 MB/s eta 0:00:03\n",
      "     --------- ------------------------------ 3.9/15.8 MB 6.3 MB/s eta 0:00:02\n",
      "     ------------- -------------------------- 5.2/15.8 MB 6.2 MB/s eta 0:00:02\n",
      "     ---------------- ----------------------- 6.6/15.8 MB 6.2 MB/s eta 0:00:02\n",
      "     -------------------- ------------------- 8.1/15.8 MB 6.4 MB/s eta 0:00:02\n",
      "     ----------------------- ---------------- 9.2/15.8 MB 6.2 MB/s eta 0:00:02\n",
      "     -------------------------- ------------- 10.5/15.8 MB 6.1 MB/s eta 0:00:01\n",
      "     ----------------------------- ---------- 11.8/15.8 MB 6.2 MB/s eta 0:00:01\n",
      "     --------------------------------- ------ 13.1/15.8 MB 6.2 MB/s eta 0:00:01\n",
      "     ------------------------------------- -- 14.7/15.8 MB 6.3 MB/s eta 0:00:01\n",
      "     ---------------------------------------- 15.8/15.8 MB 6.2 MB/s eta 0:00:00\n",
      "  Installing build dependencies: started\n",
      "  Installing build dependencies: finished with status 'done'\n",
      "  Getting requirements to build wheel: started\n",
      "  Getting requirements to build wheel: finished with status 'done'\n",
      "  Installing backend dependencies: started\n",
      "  Installing backend dependencies: finished with status 'done'\n",
      "  Preparing metadata (pyproject.toml): started\n",
      "  Preparing metadata (pyproject.toml): finished with status 'error'\n",
      "Note: you may need to restart the kernel to use updated packages.\n"
     ]
    },
    {
     "name": "stderr",
     "output_type": "stream",
     "text": [
      "  error: subprocess-exited-with-error\n",
      "  \n",
      "  × Preparing metadata (pyproject.toml) did not run successfully.\n",
      "  │ exit code: 1\n",
      "  ╰─> [21 lines of output]\n",
      "      + C:\\Users\\Lenovo\\AppData\\Local\\Microsoft\\WindowsApps\\PythonSoftwareFoundation.Python.3.13_qbz5n2kfra8p0\\python.exe C:\\Users\\Lenovo\\AppData\\Local\\Temp\\pip-install-gt4qwkvd\\numpy_1157af29f856410a974b10f06d4129b6\\vendored-meson\\meson\\meson.py setup C:\\Users\\Lenovo\\AppData\\Local\\Temp\\pip-install-gt4qwkvd\\numpy_1157af29f856410a974b10f06d4129b6 C:\\Users\\Lenovo\\AppData\\Local\\Temp\\pip-install-gt4qwkvd\\numpy_1157af29f856410a974b10f06d4129b6\\.mesonpy-87n_sgcd -Dbuildtype=release -Db_ndebug=if-release -Db_vscrt=md --native-file=C:\\Users\\Lenovo\\AppData\\Local\\Temp\\pip-install-gt4qwkvd\\numpy_1157af29f856410a974b10f06d4129b6\\.mesonpy-87n_sgcd\\meson-python-native-file.ini\n",
      "      The Meson build system\n",
      "      Version: 1.2.99\n",
      "      Source dir: C:\\Users\\Lenovo\\AppData\\Local\\Temp\\pip-install-gt4qwkvd\\numpy_1157af29f856410a974b10f06d4129b6\n",
      "      Build dir: C:\\Users\\Lenovo\\AppData\\Local\\Temp\\pip-install-gt4qwkvd\\numpy_1157af29f856410a974b10f06d4129b6\\.mesonpy-87n_sgcd\n",
      "      Build type: native build\n",
      "      Project name: NumPy\n",
      "      Project version: 1.26.4\n",
      "      WARNING: Failed to activate VS environment: Could not find C:\\Program Files (x86)\\Microsoft Visual Studio\\Installer\\vswhere.exe\n",
      "      \n",
      "      ..\\meson.build:1:0: ERROR: Unknown compiler(s): [['icl'], ['cl'], ['cc'], ['gcc'], ['clang'], ['clang-cl'], ['pgcc']]\n",
      "      The following exception(s) were encountered:\n",
      "      Running `icl \"\"` gave \"[WinError 2] The system cannot find the file specified\"\n",
      "      Running `cl /?` gave \"[WinError 2] The system cannot find the file specified\"\n",
      "      Running `cc --version` gave \"[WinError 2] The system cannot find the file specified\"\n",
      "      Running `gcc --version` gave \"[WinError 2] The system cannot find the file specified\"\n",
      "      Running `clang --version` gave \"[WinError 2] The system cannot find the file specified\"\n",
      "      Running `clang-cl /?` gave \"[WinError 2] The system cannot find the file specified\"\n",
      "      Running `pgcc --version` gave \"[WinError 2] The system cannot find the file specified\"\n",
      "      \n",
      "      A full log can be found at C:\\Users\\Lenovo\\AppData\\Local\\Temp\\pip-install-gt4qwkvd\\numpy_1157af29f856410a974b10f06d4129b6\\.mesonpy-87n_sgcd\\meson-logs\\meson-log.txt\n",
      "      [end of output]\n",
      "  \n",
      "  note: This error originates from a subprocess, and is likely not a problem with pip.\n",
      "error: metadata-generation-failed\n",
      "\n",
      "× Encountered error while generating package metadata.\n",
      "╰─> See above for output.\n",
      "\n",
      "note: This is an issue with the package mentioned above, not pip.\n",
      "hint: See above for details.\n"
     ]
    }
   ],
   "source": [
    "pip install gensim"
   ]
  },
  {
   "cell_type": "code",
   "execution_count": 4,
   "metadata": {},
   "outputs": [
    {
     "ename": "ModuleNotFoundError",
     "evalue": "No module named 'gensim'",
     "output_type": "error",
     "traceback": [
      "\u001b[1;31m---------------------------------------------------------------------------\u001b[0m",
      "\u001b[1;31mModuleNotFoundError\u001b[0m                       Traceback (most recent call last)",
      "Cell \u001b[1;32mIn[4], line 1\u001b[0m\n\u001b[1;32m----> 1\u001b[0m \u001b[38;5;28;01mimport\u001b[39;00m\u001b[38;5;250m \u001b[39m\u001b[38;5;21;01mgensim\u001b[39;00m\n\u001b[0;32m      2\u001b[0m \u001b[38;5;28;01mimport\u001b[39;00m\u001b[38;5;250m \u001b[39m\u001b[38;5;21;01mnltk\u001b[39;00m\n\u001b[0;32m      3\u001b[0m \u001b[38;5;28;01mimport\u001b[39;00m\u001b[38;5;250m \u001b[39m\u001b[38;5;21;01mstring\u001b[39;00m\n",
      "\u001b[1;31mModuleNotFoundError\u001b[0m: No module named 'gensim'"
     ]
    }
   ],
   "source": [
    "import gensim\n",
    "import nltk\n",
    "import string\n",
    "from nltk.tokenize import word_tokenize\n",
    "from nltk.corpus import stopwords\n",
    "from nltk.stem import PorterStemmer\n",
    "from nltk.stem import WordNetLemmatizer\n",
    "from gensim.utils import simple_preprocess\n",
    "\n",
    "# Download required NLTK data\n",
    "nltk.download('punkt')\n",
    "nltk.download('stopwords')\n",
    "nltk.download('wordnet')\n",
    "\n",
    "# Initialize stemmer and lemmatizer\n",
    "stemmer = PorterStemmer()\n",
    "lemmatizer = WordNetLemmatizer()\n",
    "\n",
    "# Function to preprocess text using Gensim and NLTK\n",
    "def preprocess_text(file_path):\n",
    "    # Read the sample text file\n",
    "    with open(file_path, 'r') as file:\n",
    "        text = file.read()\n",
    "\n",
    "    # Step 1: Tokenization using Gensim (simple_preprocess handles lowercasing, tokenization, and punctuation removal)\n",
    "    tokens = simple_preprocess(text)\n",
    "\n",
    "    # Step 2: Remove stopwords\n",
    "    stop_words = set(stopwords.words('english'))\n",
    "    filtered_tokens = [word for word in tokens if word not in stop_words]\n",
    "\n",
    "    # Step 3: Stemming\n",
    "    stemmed_tokens = [stemmer.stem(word) for word in filtered_tokens]\n",
    "\n",
    "    # Step 4: Lemmatization\n",
    "    lemmatized_tokens = [lemmatizer.lemmatize(word) for word in stemmed_tokens]\n",
    "\n",
    "    return lemmatized_tokens\n",
    "\n",
    "# Example usage\n",
    "file_path = 'sample.txt'  # Specify your text file path here\n",
    "processed_text = preprocess_text(file_path)\n",
    "\n",
    "print(\"Processed Text:\", processed_text)"
   ]
  },
  {
   "cell_type": "code",
   "execution_count": null,
   "metadata": {},
   "outputs": [],
   "source": []
  }
 ],
 "metadata": {
  "kernelspec": {
   "display_name": "Python 3",
   "language": "python",
   "name": "python3"
  },
  "language_info": {
   "codemirror_mode": {
    "name": "ipython",
    "version": 3
   },
   "file_extension": ".py",
   "mimetype": "text/x-python",
   "name": "python",
   "nbconvert_exporter": "python",
   "pygments_lexer": "ipython3",
   "version": "3.13.1"
  }
 },
 "nbformat": 4,
 "nbformat_minor": 2
}
