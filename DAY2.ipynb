{
 "cells": [
  {
   "cell_type": "markdown",
   "metadata": {},
   "source": [
    "LIST TUPLE DICTIONARY"
   ]
  },
  {
   "cell_type": "code",
   "execution_count": 1,
   "metadata": {},
   "outputs": [
    {
     "name": "stdout",
     "output_type": "stream",
     "text": [
      "['Trisha', 'Mehnaaz', 'Vishakha', 'Daksh', 'vibek']\n",
      "Element at index 3 is:  Daksh\n"
     ]
    }
   ],
   "source": [
    "names=[\"Trisha\",\"Mehnaaz\",\"Vishakha\",\"Daksh\",\"vibek\"]\n",
    "print(names)\n",
    "print(\"Element at index 3 is: \",names[3])"
   ]
  },
  {
   "cell_type": "code",
   "execution_count": 2,
   "metadata": {},
   "outputs": [
    {
     "name": "stdout",
     "output_type": "stream",
     "text": [
      "('AI', 'ML', 'CSE', 'CS', 'DS')\n",
      "Element at index 0 is:  AI\n"
     ]
    }
   ],
   "source": [
    "courses=('AI','ML','CSE','CS','DS')\n",
    "print(courses)\n",
    "print(\"Element at index 0 is: \",courses[0])"
   ]
  },
  {
   "cell_type": "code",
   "execution_count": 4,
   "metadata": {},
   "outputs": [
    {
     "name": "stdout",
     "output_type": "stream",
     "text": [
      "{'Trisha': 'AIML', 'Naaz': 'CSE', 'Daksh': 'AIML'}\n",
      "Subject Trisha is studying: AIML\n"
     ]
    }
   ],
   "source": [
    "stud={\"Trisha\":\"AIML\",\"Naaz\":\"CSE\",\"Daksh\":\"AIML\"}\n",
    "print(stud)\n",
    "print(\"Subject Trisha is studying:\",stud.get(\"Trisha\"))"
   ]
  },
  {
   "cell_type": "code",
   "execution_count": null,
   "metadata": {},
   "outputs": [],
   "source": []
  }
 ],
 "metadata": {
  "kernelspec": {
   "display_name": "Python 3",
   "language": "python",
   "name": "python3"
  },
  "language_info": {
   "codemirror_mode": {
    "name": "ipython",
    "version": 3
   },
   "file_extension": ".py",
   "mimetype": "text/x-python",
   "name": "python",
   "nbconvert_exporter": "python",
   "pygments_lexer": "ipython3",
   "version": "3.13.1"
  }
 },
 "nbformat": 4,
 "nbformat_minor": 2
}
